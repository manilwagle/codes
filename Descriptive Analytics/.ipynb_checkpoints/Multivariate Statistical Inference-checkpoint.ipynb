{
 "cells": [
  {
   "cell_type": "markdown",
   "metadata": {},
   "source": [
    "# Multivariate Statistical Inference"
   ]
  },
  {
   "cell_type": "markdown",
   "metadata": {},
   "source": [
    "Multivariate inferential methods helps comparisons between two or more groups."
   ]
  },
  {
   "cell_type": "markdown",
   "metadata": {},
   "source": [
    "This tutorial primarily uses base R functions; however, we leverage ggplot2 and dplyr for some basic data manipulation and visualization tasks. To illustrate the key ideas, we use employee attrition data provided by the rsample package"
   ]
  },
  {
   "cell_type": "code",
   "execution_count": 2,
   "metadata": {
    "collapsed": true
   },
   "outputs": [],
   "source": [
    "# packages used regularly\n",
    "library(ggplot2)\n",
    "library(dplyr)\n",
    "\n",
    "# full population data\n",
    "attrition <- rsample::attrition"
   ]
  },
  {
   "cell_type": "markdown",
   "metadata": {},
   "source": [
    "### Comparing Means of Two Groups"
   ]
  },
  {
   "cell_type": "markdown",
   "metadata": {},
   "source": [
    "Often we are interested in how values for a given variable differ between two groups. For example, we may wonder if driving distances to and from work may be related to employee attrition. The summary statistics are given below, which suggest employees that churn may, on average, live about 1.5 miles further from work than employees that do not churn."
   ]
  },
  {
   "cell_type": "code",
   "execution_count": 3,
   "metadata": {},
   "outputs": [
    {
     "data": {
      "text/html": [
       "<table>\n",
       "<thead><tr><th scope=col>Attrition</th><th scope=col>avg_dist</th><th scope=col>sd_dst</th><th scope=col>n</th></tr></thead>\n",
       "<tbody>\n",
       "\t<tr><td>No       </td><td> 8.915653</td><td>8.012633 </td><td>1233     </td></tr>\n",
       "\t<tr><td>Yes      </td><td>10.632911</td><td>8.452525 </td><td> 237     </td></tr>\n",
       "</tbody>\n",
       "</table>\n"
      ],
      "text/latex": [
       "\\begin{tabular}{r|llll}\n",
       " Attrition & avg\\_dist & sd\\_dst & n\\\\\n",
       "\\hline\n",
       "\t No        &  8.915653 & 8.012633  & 1233     \\\\\n",
       "\t Yes       & 10.632911 & 8.452525  &  237     \\\\\n",
       "\\end{tabular}\n"
      ],
      "text/markdown": [
       "\n",
       "Attrition | avg_dist | sd_dst | n | \n",
       "|---|---|\n",
       "| No        |  8.915653 | 8.012633  | 1233      | \n",
       "| Yes       | 10.632911 | 8.452525  |  237      | \n",
       "\n",
       "\n"
      ],
      "text/plain": [
       "  Attrition avg_dist  sd_dst   n   \n",
       "1 No         8.915653 8.012633 1233\n",
       "2 Yes       10.632911 8.452525  237"
      ]
     },
     "metadata": {},
     "output_type": "display_data"
    }
   ],
   "source": [
    "attrition %>%\n",
    "    group_by(Attrition)%>%\n",
    "    summarise(\n",
    "        avg_dist=mean(DistanceFromHome),\n",
    "        sd_dst=sd(DistanceFromHome),\n",
    "    n = n())"
   ]
  },
  {
   "cell_type": "code",
   "execution_count": 4,
   "metadata": {},
   "outputs": [
    {
     "data": {},
     "metadata": {},
     "output_type": "display_data"
    },
    {
     "data": {
      "image/png": "[encoded data removed]",
      "text/plain": [
       "plot without title"
      ]
     },
     "metadata": {},
     "output_type": "display_data"
    }
   ],
   "source": [
    "ggplot(attrition, aes(Attrition, DistanceFromHome, color=Attrition))+\n",
    "    geom_boxplot()+\n",
    "    coord_flip()"
   ]
  },
  {
   "cell_type": "markdown",
   "metadata": {},
   "source": [
    "However, the question remains, how certain are we that there is a difference in distances between the two attrition groups? Assuming this data is a sample of a larger population data set, we saw in the previous tutorial that there is some uncertainty (margin of error) around the estimated mean produced by a sample. If the margin of error is large enough then we cannot state that any differences in mean values between these groups are statistically significant. This results in the following hypothesis:\n",
    "\n",
    "H0:μ1=μ2     \n",
    "\n",
    "Ha:μ1≠μ2"
   ]
  },
  {
   "cell_type": "markdown",
   "metadata": {},
   "source": [
    "istances are the same between the two groups of employees and the alternative is that they differ. To assess this hypothesis we can test for the difference in group means by using the two-sample test statistic"
   ]
  },
  {
   "cell_type": "markdown",
   "metadata": {},
   "source": [
    "A sufficiently large t value provides evidence against the null hypothesis H0 and this strength of evidence can be measured by the p-value."
   ]
  },
  {
   "cell_type": "code",
   "execution_count": 5,
   "metadata": {},
   "outputs": [
    {
     "data": {
      "text/plain": [
       "\n",
       "\tWelch Two Sample t-test\n",
       "\n",
       "data:  DistanceFromHome by Attrition\n",
       "t = -2.8882, df = 322.72, p-value = 0.004137\n",
       "alternative hypothesis: true difference in means is not equal to 0\n",
       "95 percent confidence interval:\n",
       " -2.8870025 -0.5475146\n",
       "sample estimates:\n",
       " mean in group No mean in group Yes \n",
       "         8.915653         10.632911 \n"
      ]
     },
     "metadata": {},
     "output_type": "display_data"
    }
   ],
   "source": [
    "t.test(DistanceFromHome ~ Attrition, data=attrition)"
   ]
  },
  {
   "cell_type": "markdown",
   "metadata": {},
   "source": [
    "The p-value results suggest very strong evidence that the two groups are different. The difference of the two means is 8.916−10.633=−1.717 and the confidence interval suggests that we can be 95% certain that the true difference between these groups rests in the interval of -2.89 and -0.55 miles. Consequently, we can state that, on average, employees that churn tend to live further away from work than employees that do not churn."
   ]
  },
  {
   "cell_type": "markdown",
   "metadata": {},
   "source": [
    "### Comparing Means of Three or More Groups"
   ]
  },
  {
   "cell_type": "markdown",
   "metadata": {},
   "source": [
    "An extension of the two-sample t-test is if we desire to compare three or more groups. Suppose we are interested in comparing the average monthly income across the departments in our attrition data. We can see that incomes are relatively close ranging from 6,281-6,959."
   ]
  },
  {
   "cell_type": "code",
   "execution_count": 7,
   "metadata": {},
   "outputs": [
    {
     "data": {
      "text/html": [
       "<table>\n",
       "<thead><tr><th scope=col>Department</th><th scope=col>avg_inc</th><th scope=col>sd_inc</th><th scope=col>n</th></tr></thead>\n",
       "<tbody>\n",
       "\t<tr><td>Human_Resources     </td><td>6654.508            </td><td>5788.733            </td><td> 63                 </td></tr>\n",
       "\t<tr><td>Research_Development</td><td>6281.253            </td><td>4895.835            </td><td>961                 </td></tr>\n",
       "\t<tr><td>Sales               </td><td>6959.173            </td><td>4058.739            </td><td>446                 </td></tr>\n",
       "</tbody>\n",
       "</table>\n"
      ],
      "text/latex": [
       "\\begin{tabular}{r|llll}\n",
       " Department & avg\\_inc & sd\\_inc & n\\\\\n",
       "\\hline\n",
       "\t Human\\_Resources      & 6654.508               & 5788.733               &  63                   \\\\\n",
       "\t Research\\_Development & 6281.253               & 4895.835               & 961                   \\\\\n",
       "\t Sales                & 6959.173             & 4058.739             & 446                 \\\\\n",
       "\\end{tabular}\n"
      ],
      "text/markdown": [
       "\n",
       "Department | avg_inc | sd_inc | n | \n",
       "|---|---|---|\n",
       "| Human_Resources      | 6654.508             | 5788.733             |  63                  | \n",
       "| Research_Development | 6281.253             | 4895.835             | 961                  | \n",
       "| Sales                | 6959.173             | 4058.739             | 446                  | \n",
       "\n",
       "\n"
      ],
      "text/plain": [
       "  Department           avg_inc  sd_inc   n  \n",
       "1 Human_Resources      6654.508 5788.733  63\n",
       "2 Research_Development 6281.253 4895.835 961\n",
       "3 Sales                6959.173 4058.739 446"
      ]
     },
     "metadata": {},
     "output_type": "display_data"
    }
   ],
   "source": [
    "attrition %>%\n",
    "    group_by(Department)%>%\n",
    "    summarise(\n",
    "        avg_inc=mean(MonthlyIncome),\n",
    "        sd_inc= sd(MonthlyIncome),\n",
    "    n   =n())"
   ]
  },
  {
   "cell_type": "code",
   "execution_count": 9,
   "metadata": {},
   "outputs": [
    {
     "data": {},
     "metadata": {},
     "output_type": "display_data"
    },
    {
     "data": {
      "image/png": "[encoded data removed]",
      "text/plain": [
       "plot without title"
      ]
     },
     "metadata": {},
     "output_type": "display_data"
    }
   ],
   "source": [
    "ggplot(attrition, aes(Department, MonthlyIncome, color=Department))+\n",
    "    geom_boxplot()"
   ]
  },
  {
   "cell_type": "markdown",
   "metadata": {},
   "source": [
    "Consequently, the hypothesis we make here is:\n",
    "\n",
    "All groups have equal means: H0:μ1=μ2=μ3\n",
    "\n",
    "Not all groups have equal means: Ha"
   ]
  },
  {
   "cell_type": "markdown",
   "metadata": {},
   "source": [
    "We can turn to analysis of variance (ANOVA) to assess this hypothesis. ANOVA works by comparing:\n",
    "\n",
    "the between-sample variability, which is the variability in the sample means, such as ¯x1=6654,¯x2=6281,¯x3=6959\n",
    ", with\n",
    "\n",
    "the within-sample variability, which is the variability within each sample."
   ]
  },
  {
   "cell_type": "markdown",
   "metadata": {},
   "source": [
    "When (1) is much larger than (2), this represents evidence that the population means are not equal (Ha). Thus, the approach depends on variability, hence the term analysis of variance."
   ]
  },
  {
   "cell_type": "code",
   "execution_count": 10,
   "metadata": {},
   "outputs": [
    {
     "data": {
      "text/plain": [
       "              Df    Sum Sq  Mean Sq F value Pr(>F)  \n",
       "Department     2 1.415e+08 70754962   3.202  0.041 *\n",
       "Residuals   1467 3.242e+10 22098613                 \n",
       "---\n",
       "Signif. codes:  0 '***' 0.001 '**' 0.01 '*' 0.05 '.' 0.1 ' ' 1"
      ]
     },
     "metadata": {},
     "output_type": "display_data"
    }
   ],
   "source": [
    "anova_results<- aov(MonthlyIncome ~ Department, data=attrition)\n",
    "summary(anova_results)"
   ]
  },
  {
   "cell_type": "markdown",
   "metadata": {},
   "source": [
    "The F-statistic will be large when the between-sample variability is much greater than the within-sample variability, which provides supporting evidence against the null hypothesis. In R we use aov to perform ANOVA. As our results indicate, our F-statistic is 3.202 with p-value=0.041, which provides solid evidence that our group means are not all equal."
   ]
  },
  {
   "cell_type": "markdown",
   "metadata": {},
   "source": [
    "However, our ANOVA table does not tell us where or what differences exist; it just tells us that there is a difference among our group means. We can use Tukey’s range test to find the means that are significantly different from each other."
   ]
  },
  {
   "cell_type": "code",
   "execution_count": 11,
   "metadata": {},
   "outputs": [
    {
     "data": {
      "text/plain": [
       "  Tukey multiple comparisons of means\n",
       "    95% family-wise confidence level\n",
       "\n",
       "Fit: aov(formula = MonthlyIncome ~ Department, data = attrition)\n",
       "\n",
       "$Department\n",
       "                                          diff         lwr      upr     p adj\n",
       "Research_Development-Human_Resources -373.2551 -1807.57002 1061.060 0.8143913\n",
       "Sales-Human_Resources                 304.6647 -1179.72420 1789.054 0.8800639\n",
       "Sales-Research_Development            677.9198    46.02548 1309.814 0.0320059\n"
      ]
     },
     "metadata": {},
     "output_type": "display_data"
    }
   ],
   "source": [
    "TukeyHSD(anova_results)"
   ]
  },
  {
   "cell_type": "markdown",
   "metadata": {},
   "source": [
    "Applying Tukey’s range test with TukeyHSD allows us to see that the primary difference in monthly income rests between the Sales and Research Development Departments where the p-value provides solid evidence that the average monthly Sales department income is $678 more than the average monthly Research Development department income."
   ]
  },
  {
   "cell_type": "code",
   "execution_count": 12,
   "metadata": {},
   "outputs": [
    {
     "data": {
      "image/png": "[encoded data removed]",
      "text/plain": [
       "Plot with title \"95% family-wise confidence level\n",
       "\""
      ]
     },
     "metadata": {},
     "output_type": "display_data"
    }
   ],
   "source": [
    "plot(TukeyHSD(anova_results))"
   ]
  },
  {
   "cell_type": "markdown",
   "metadata": {},
   "source": [
    "### Comparing Proportions of Two Groups"
   ]
  },
  {
   "cell_type": "markdown",
   "metadata": {},
   "source": [
    "Of course, not all variables are numeric. For example, we may wonder if the gender proportion is the same for those employees that churn versus those that do not. Below we can see that the proportions are fairly similar (41% of employees that do not churn are female versus 37% of those that do churn)."
   ]
  },
  {
   "cell_type": "code",
   "execution_count": 13,
   "metadata": {},
   "outputs": [
    {
     "data": {
      "text/html": [
       "<table>\n",
       "<thead><tr><th scope=col>Attrition</th><th scope=col>Gender</th><th scope=col>n</th><th scope=col>pct</th></tr></thead>\n",
       "<tbody>\n",
       "\t<tr><td>No       </td><td>Female   </td><td>501      </td><td>0.4063260</td></tr>\n",
       "\t<tr><td>No       </td><td>Male     </td><td>732      </td><td>0.5936740</td></tr>\n",
       "\t<tr><td>Yes      </td><td>Female   </td><td> 87      </td><td>0.3670886</td></tr>\n",
       "\t<tr><td>Yes      </td><td>Male     </td><td>150      </td><td>0.6329114</td></tr>\n",
       "</tbody>\n",
       "</table>\n"
      ],
      "text/latex": [
       "\\begin{tabular}{r|llll}\n",
       " Attrition & Gender & n & pct\\\\\n",
       "\\hline\n",
       "\t No        & Female    & 501       & 0.4063260\\\\\n",
       "\t No        & Male      & 732       & 0.5936740\\\\\n",
       "\t Yes       & Female    &  87       & 0.3670886\\\\\n",
       "\t Yes       & Male      & 150       & 0.6329114\\\\\n",
       "\\end{tabular}\n"
      ],
      "text/markdown": [
       "\n",
       "Attrition | Gender | n | pct | \n",
       "|---|---|---|---|\n",
       "| No        | Female    | 501       | 0.4063260 | \n",
       "| No        | Male      | 732       | 0.5936740 | \n",
       "| Yes       | Female    |  87       | 0.3670886 | \n",
       "| Yes       | Male      | 150       | 0.6329114 | \n",
       "\n",
       "\n"
      ],
      "text/plain": [
       "  Attrition Gender n   pct      \n",
       "1 No        Female 501 0.4063260\n",
       "2 No        Male   732 0.5936740\n",
       "3 Yes       Female  87 0.3670886\n",
       "4 Yes       Male   150 0.6329114"
      ]
     },
     "metadata": {},
     "output_type": "display_data"
    }
   ],
   "source": [
    "# propportion table\n",
    "attrition %>%\n",
    "    group_by(Attrition)%>%\n",
    "    count(Gender)%>%\n",
    "    mutate(pct=n/sum(n))"
   ]
  },
  {
   "cell_type": "markdown",
   "metadata": {},
   "source": [
    "Consequently, we would like to test the hypothesis\n",
    "\n",
    "H0:π1=π2\n",
    "\n",
    "Ha:π1≠π2\n",
    "\n",
    "To test this hypothesis we can use the two-sample Z test statistic to compare the proportions between two categorical groups (attrition vs. non-attrition)."
   ]
  },
  {
   "cell_type": "code",
   "execution_count": 15,
   "metadata": {},
   "outputs": [
    {
     "data": {
      "text/plain": [
       "\n",
       "\t2-sample test for equality of proportions with continuity correction\n",
       "\n",
       "data:  .\n",
       "X-squared = 1.117, df = 1, p-value = 0.2906\n",
       "alternative hypothesis: two.sided\n",
       "95 percent confidence interval:\n",
       " -0.03048928  0.10896414\n",
       "sample estimates:\n",
       "   prop 1    prop 2 \n",
       "0.4063260 0.3670886 \n"
      ]
     },
     "metadata": {},
     "output_type": "display_data"
    }
   ],
   "source": [
    "# hypothesis test for proportions\n",
    "table(attrition$Attrition, attrition$Gender) %>% \n",
    "  prop.test()"
   ]
  },
  {
   "cell_type": "markdown",
   "metadata": {},
   "source": [
    "Note that prop.test will use the first column in the output of table. In our example this is Female so our prop.test is testing for a difference in the proportion of females that churn versus those that do not. Our p-value suggests no evidence to reject the null hypothesis so we can be fairly confident that there are equal proportions of each gender that do and do not churn."
   ]
  },
  {
   "cell_type": "markdown",
   "metadata": {},
   "source": [
    "### Comparing Proportions of Three or More Groups"
   ]
  },
  {
   "cell_type": "markdown",
   "metadata": {},
   "source": [
    "An extension of the two-sample Z test is if we desire to compare proportions across multinomial data. Multinomial data is when there are three or more categorical groups. For example, our attrition data has a MaritalStatus variable that categorizes employees as single, married, or divorced. We may be interested in understanding if there are differences in the proportions of these categories (pk) for employees that churn versus those that do not."
   ]
  },
  {
   "cell_type": "code",
   "execution_count": 17,
   "metadata": {},
   "outputs": [
    {
     "data": {
      "text/html": [
       "<table>\n",
       "<thead><tr><th></th><th scope=col>Divorced</th><th scope=col>Married</th><th scope=col>Single</th><th scope=col>Sum</th></tr></thead>\n",
       "<tbody>\n",
       "\t<tr><th scope=row>No</th><td>294 </td><td>589 </td><td>350 </td><td>1233</td></tr>\n",
       "\t<tr><th scope=row>Yes</th><td> 33 </td><td> 84 </td><td>120 </td><td> 237</td></tr>\n",
       "\t<tr><th scope=row>Sum</th><td>327 </td><td>673 </td><td>470 </td><td>1470</td></tr>\n",
       "</tbody>\n",
       "</table>\n"
      ],
      "text/latex": [
       "\\begin{tabular}{r|llll}\n",
       "  & Divorced & Married & Single & Sum\\\\\n",
       "\\hline\n",
       "\tNo & 294  & 589  & 350  & 1233\\\\\n",
       "\tYes &  33  &  84  & 120  &  237\\\\\n",
       "\tSum & 327  & 673  & 470  & 1470\\\\\n",
       "\\end{tabular}\n"
      ],
      "text/markdown": [
       "\n",
       "| <!--/--> | Divorced | Married | Single | Sum | \n",
       "|---|---|---|\n",
       "| No | 294  | 589  | 350  | 1233 | \n",
       "| Yes |  33  |  84  | 120  |  237 | \n",
       "| Sum | 327  | 673  | 470  | 1470 | \n",
       "\n",
       "\n"
      ],
      "text/plain": [
       "     \n",
       "      Divorced Married Single Sum \n",
       "  No  294      589     350    1233\n",
       "  Yes  33       84     120     237\n",
       "  Sum 327      673     470    1470"
      ]
     },
     "metadata": {},
     "output_type": "display_data"
    }
   ],
   "source": [
    "table(attrition$Attrition, attrition$MaritalStatus) %>%\n",
    "  addmargins()"
   ]
  },
  {
   "cell_type": "markdown",
   "metadata": {},
   "source": [
    "The hypothesis here is:\n",
    "\n",
    "Null hypothesis (H0)\n",
    "\n",
    "Single category: psingle,no=psingle,yes\n",
    "\n",
    "Married category: pmarried,no=pmarried,yes\n",
    "\n",
    "Divorced category: pdivorced,no=pdivorced,yes\n",
    "\n",
    "Alternative hypothesis (Ha ): at least one of the claims in H0 is wrong."
   ]
  },
  {
   "cell_type": "markdown",
   "metadata": {},
   "source": [
    "To determine if there is sufficient evidence against H0, we compare the observed frequencies with the expected frequencies if H0 were true. To compute expected frequencies we use\n",
    "\n",
    "E=(row total)(column total)/grand total"
   ]
  },
  {
   "cell_type": "code",
   "execution_count": 25,
   "metadata": {},
   "outputs": [
    {
     "data": {
      "text/plain": [
       "\n",
       "\tPearson's Chi-squared test\n",
       "\n",
       "data:  .\n",
       "X-squared = 46.164, df = 2, p-value = 0.00000000009456\n"
      ]
     },
     "metadata": {},
     "output_type": "display_data"
    }
   ],
   "source": [
    "(test_prop <- table(attrition$Attrition, attrition$MaritalStatus) %>%\n",
    "  chisq.test()\n",
    ")\n",
    "options(scipen=999)"
   ]
  },
  {
   "cell_type": "code",
   "execution_count": 22,
   "metadata": {},
   "outputs": [
    {
     "data": {
      "text/html": [
       "<table>\n",
       "<thead><tr><th></th><th scope=col>Divorced</th><th scope=col>Married</th><th scope=col>Single</th></tr></thead>\n",
       "<tbody>\n",
       "\t<tr><th scope=row>No</th><td>274.27959</td><td>564.4959 </td><td>394.22449</td></tr>\n",
       "\t<tr><th scope=row>Yes</th><td> 52.72041</td><td>108.5041 </td><td> 75.77551</td></tr>\n",
       "</tbody>\n",
       "</table>\n"
      ],
      "text/latex": [
       "\\begin{tabular}{r|lll}\n",
       "  & Divorced & Married & Single\\\\\n",
       "\\hline\n",
       "\tNo & 274.27959 & 564.4959  & 394.22449\\\\\n",
       "\tYes &  52.72041 & 108.5041  &  75.77551\\\\\n",
       "\\end{tabular}\n"
      ],
      "text/markdown": [
       "\n",
       "| <!--/--> | Divorced | Married | Single | \n",
       "|---|---|\n",
       "| No | 274.27959 | 564.4959  | 394.22449 | \n",
       "| Yes |  52.72041 | 108.5041  |  75.77551 | \n",
       "\n",
       "\n"
      ],
      "text/plain": [
       "     \n",
       "      Divorced  Married  Single   \n",
       "  No  274.27959 564.4959 394.22449\n",
       "  Yes  52.72041 108.5041  75.77551"
      ]
     },
     "metadata": {},
     "output_type": "display_data"
    }
   ],
   "source": [
    "# expected values\n",
    "test_prop$expected"
   ]
  },
  {
   "cell_type": "code",
   "execution_count": 23,
   "metadata": {},
   "outputs": [
    {
     "data": {
      "text/plain": [
       "     \n",
       "       Divorced   Married    Single\n",
       "  No   3.363095  3.488366 -6.725649\n",
       "  Yes -3.363095 -3.488366  6.725649"
      ]
     },
     "metadata": {},
     "output_type": "display_data"
    }
   ],
   "source": [
    "# standardized residuals\n",
    "test_prop$stdres"
   ]
  },
  {
   "cell_type": "markdown",
   "metadata": {},
   "source": [
    "We can pass our frequency table to chisq.test in R to compute the χ2-statistic. Our results suggest there is very strong evidence that the marital status proportions are not consistent between employees that churn versus those that do not. \n",
    "\n",
    "We can also extract the expected frequencies and standardized residuals. Large absolute standardized residual values identify the categories that deviate the most from their expected frequencies. In our example, the residuals suggest that we actually observed far more employees that are single and churned (Osingle,yes) than expected (Esingle,yes), providing evidence that psingle,no≠psingle,yes."
   ]
  },
  {
   "cell_type": "code",
   "execution_count": null,
   "metadata": {
    "collapsed": true
   },
   "outputs": [],
   "source": []
  }
 ],
 "metadata": {
  "kernelspec": {
   "display_name": "R",
   "language": "R",
   "name": "ir"
  },
  "language_info": {
   "codemirror_mode": "r",
   "file_extension": ".r",
   "mimetype": "text/x-r-source",
   "name": "R",
   "pygments_lexer": "r",
   "version": "3.4.2"
  }
 },
 "nbformat": 4,
 "nbformat_minor": 2
}
